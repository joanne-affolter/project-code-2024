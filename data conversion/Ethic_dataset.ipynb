{
 "cells": [
  {
   "cell_type": "code",
   "execution_count": 17,
   "id": "f573893f-97c1-4206-89ba-276836f622e9",
   "metadata": {},
   "outputs": [],
   "source": [
    "from datasets import load_dataset\n",
    "import json"
   ]
  },
  {
   "cell_type": "code",
   "execution_count": 1,
   "id": "be59c7f4-8967-439b-8bf4-517cfc5141ae",
   "metadata": {},
   "outputs": [
    {
     "name": "stderr",
     "output_type": "stream",
     "text": [
      "/Users/robinjaccard/opt/anaconda3/envs/final/lib/python3.10/site-packages/tqdm/auto.py:21: TqdmWarning: IProgress not found. Please update jupyter and ipywidgets. See https://ipywidgets.readthedocs.io/en/stable/user_install.html\n",
      "  from .autonotebook import tqdm as notebook_tqdm\n",
      "Downloading readme: 100%|██████████████████████████████████████████████████████████████████████████████████████████████████████████████████████████████████████████████| 2.07k/2.07k [00:00<00:00, 2.30MB/s]\n",
      "Downloading data: 100%|████████████████████████████████████████████████████████████████████████████████████████████████████████████████████████████████████████████████| 59.9M/59.9M [00:03<00:00, 18.5MB/s]\n",
      "Downloading data: 100%|████████████████████████████████████████████████████████████████████████████████████████████████████████████████████████████████████████████████| 3.35M/3.35M [00:00<00:00, 7.54MB/s]\n",
      "Generating train split: 100%|██████████████████████████████████████████████████████████████████████████████████████████████████████████████████████████████| 42537/42537 [00:00<00:00, 178486.82 examples/s]\n",
      "Generating test split: 100%|█████████████████████████████████████████████████████████████████████████████████████████████████████████████████████████████████| 2312/2312 [00:00<00:00, 142355.12 examples/s]\n"
     ]
    }
   ],
   "source": [
    "dataset = load_dataset(\"Unified-Language-Model-Alignment/Anthropic_HH_Golden\")"
   ]
  },
  {
   "cell_type": "code",
   "execution_count": 8,
   "id": "ae546592-9a16-4819-b500-8da0f30675b6",
   "metadata": {},
   "outputs": [
    {
     "data": {
      "text/plain": [
       "['Assistant:Assistant:Assistant:Assistant:', 'hello words']"
      ]
     },
     "execution_count": 8,
     "metadata": {},
     "output_type": "execute_result"
    }
   ],
   "source": [
    "conversation = \"Assistant:Assistant:Assistant:Assistant:Assistant:hello words\"\n",
    "split_conversation = conversation.rsplit(\"Assistant:\", 1)\n",
    "split_conversation"
   ]
  },
  {
   "cell_type": "code",
   "execution_count": 14,
   "id": "354be91e-8ac0-4feb-aefb-4127f91bd2f2",
   "metadata": {},
   "outputs": [],
   "source": [
    "# Create a list to store individual preferences\n",
    "preferences_train = []\n",
    "\n",
    "# Extract preference items from the data\n",
    "for question in dataset['train']:\n",
    "    prompt = question['chosen'].rsplit(\"Assistant: \", 1)[0]\n",
    "    chosen = question['chosen'].rsplit(\"Assistant: \", 1)[1]\n",
    "    rejected = question['rejected'].rsplit(\"Assistant: \", 1)[1]\n",
    "    if question['rejected'].rsplit(\"Assistant: \", 1)[0] == prompt:\n",
    "        preferences_train.append({\n",
    "            'prompt': prompt,\n",
    "            'chosen': chosen,\n",
    "            'rejected': rejected,\n",
    "        })"
   ]
  },
  {
   "cell_type": "code",
   "execution_count": 18,
   "id": "64b10a4a-8556-407d-a56f-7e12ce401b61",
   "metadata": {},
   "outputs": [],
   "source": [
    "# Write the preferences to a jsonl file\n",
    "with open('ethic_dpo_train.jsonl', 'w') as file:\n",
    "    for preference in preferences_train:\n",
    "        file.write(json.dumps(preference) + '\\n')"
   ]
  }
 ],
 "metadata": {
  "kernelspec": {
   "display_name": "Python (final)",
   "language": "python",
   "name": "final"
  },
  "language_info": {
   "codemirror_mode": {
    "name": "ipython",
    "version": 3
   },
   "file_extension": ".py",
   "mimetype": "text/x-python",
   "name": "python",
   "nbconvert_exporter": "python",
   "pygments_lexer": "ipython3",
   "version": "3.10.11"
  }
 },
 "nbformat": 4,
 "nbformat_minor": 5
}
