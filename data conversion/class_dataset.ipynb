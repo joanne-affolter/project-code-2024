{
 "cells": [
  {
   "cell_type": "code",
   "execution_count": 79,
   "id": "43e2cf73-db48-400e-8d9c-3ce8575bebdc",
   "metadata": {},
   "outputs": [],
   "source": [
    "import json\n",
    "import random"
   ]
  },
  {
   "cell_type": "code",
   "execution_count": 42,
   "id": "e37dff87-959c-40b7-8371-6f7f5c2aa10a",
   "metadata": {},
   "outputs": [],
   "source": [
    "import json\n",
    "\n",
    "# Open the JSON file\n",
    "with open('data_dpo_raw.json', 'r') as f:\n",
    "    data = json.load(f)"
   ]
  },
  {
   "cell_type": "code",
   "execution_count": null,
   "id": "594302e0-9248-4060-b0af-d93cd6e0d5f4",
   "metadata": {},
   "outputs": [],
   "source": []
  },
  {
   "cell_type": "code",
   "execution_count": 82,
   "id": "a80d67f4-7bba-417b-803d-cc39f43e91bc",
   "metadata": {},
   "outputs": [
    {
     "data": {
      "text/plain": [
       "1"
      ]
     },
     "execution_count": 82,
     "metadata": {},
     "output_type": "execute_result"
    }
   ],
   "source": [
    "random.randint(0, 1)"
   ]
  },
  {
   "cell_type": "code",
   "execution_count": 85,
   "id": "634fd9b5-a8e3-4062-b913-6629c96cf377",
   "metadata": {},
   "outputs": [],
   "source": [
    "# Create a list to store individual preferences\n",
    "preferences_train = []\n",
    "preferences_test = []\n",
    "# Extract preference items from the data\n",
    "for question in data:\n",
    "    size = len(question['preference'])\n",
    "    test = random.randint(0, size - 1)\n",
    "    for count, preference_item in enumerate(question['preference']):\n",
    "        if count == test:\n",
    "            if preference_item['overall'] == 'A':\n",
    "                preferences_test.append({\n",
    "                    'prompt': question['question_complete'],\n",
    "                    'chosen': preference_item['A'],\n",
    "                    'rejected': preference_item['B'],\n",
    "                })\n",
    "            elif preference_item['overall'] == 'B':\n",
    "                preferences_test.append({\n",
    "                    'prompt': question['question_complete'],\n",
    "                    'chosen': preference_item['B'],\n",
    "                    'rejected': preference_item['A'],\n",
    "                })\n",
    "            else:\n",
    "                print(preference_item['overall'])\n",
    "\n",
    "        else:\n",
    "            if preference_item['overall'] == 'A':\n",
    "                preferences_train.append({\n",
    "                    'prompt': question['question_complete'],\n",
    "                    'chosen': preference_item['A'],\n",
    "                    'rejected': preference_item['B'],\n",
    "                })\n",
    "            elif preference_item['overall'] == 'B':\n",
    "                preferences_train.append({\n",
    "                    'prompt': question['question_complete'],\n",
    "                    'chosen': preference_item['B'],\n",
    "                    'rejected': preference_item['A'],\n",
    "                })\n",
    "            else:\n",
    "                print(preference_item['overall'])"
   ]
  },
  {
   "cell_type": "code",
   "execution_count": 87,
   "id": "ec3452ee-292c-442d-b83e-7eafeea6908b",
   "metadata": {},
   "outputs": [
    {
     "data": {
      "text/plain": [
       "20074"
      ]
     },
     "execution_count": 87,
     "metadata": {},
     "output_type": "execute_result"
    }
   ],
   "source": [
    "len(preferences_train)"
   ]
  },
  {
   "cell_type": "code",
   "execution_count": 89,
   "id": "24c82ef5-db7e-4775-8e0c-f28b82307466",
   "metadata": {},
   "outputs": [
    {
     "data": {
      "text/plain": [
       "1522"
      ]
     },
     "execution_count": 89,
     "metadata": {},
     "output_type": "execute_result"
    }
   ],
   "source": [
    "len(preferences_test)"
   ]
  },
  {
   "cell_type": "code",
   "execution_count": 76,
   "id": "38c03185-df4a-4c9c-8b69-defec2a83890",
   "metadata": {},
   "outputs": [],
   "source": [
    "# Write the preferences to a jsonl file\n",
    "with open('data_dpo_class.jsonl', 'w') as file:\n",
    "    for preference in preferences:\n",
    "        file.write(json.dumps(preference) + '\\n')"
   ]
  }
 ],
 "metadata": {
  "kernelspec": {
   "display_name": "Python 3 (ipykernel)",
   "language": "python",
   "name": "python3"
  },
  "language_info": {
   "codemirror_mode": {
    "name": "ipython",
    "version": 3
   },
   "file_extension": ".py",
   "mimetype": "text/x-python",
   "name": "python",
   "nbconvert_exporter": "python",
   "pygments_lexer": "ipython3",
   "version": "3.10.14"
  }
 },
 "nbformat": 4,
 "nbformat_minor": 5
}
