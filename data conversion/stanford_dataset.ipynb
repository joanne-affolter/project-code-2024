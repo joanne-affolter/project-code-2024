{
 "cells": [
  {
   "cell_type": "code",
   "execution_count": 36,
   "id": "66c19abe-3e8c-45a0-8a62-b18b42bfbe34",
   "metadata": {},
   "outputs": [],
   "source": [
    "from datasets import load_dataset\n",
    "import json"
   ]
  },
  {
   "cell_type": "code",
   "execution_count": 2,
   "id": "5d85db46-968e-49d6-8289-13f8f951fdc2",
   "metadata": {},
   "outputs": [
    {
     "name": "stderr",
     "output_type": "stream",
     "text": [
      "Downloading readme: 100%|██████████████████████████████████████████████████████████████████████████████████████████████████████████████████████████████████████████████| 19.1k/19.1k [00:00<00:00, 3.80MB/s]\n",
      "Downloading data: 100%|██████████████████████████████████████████████████████████████████████████████████████████████████████████████████████████████████████████████████| 18/18 [00:46<00:00,  2.61s/files]\n",
      "Downloading data: 100%|██████████████████████████████████████████████████████████████████████████████████████████████████████████████████████████████████████████████████| 18/18 [00:02<00:00,  7.79files/s]\n",
      "Downloading data: 100%|██████████████████████████████████████████████████████████████████████████████████████████████████████████████████████████████████████████████████| 18/18 [00:01<00:00,  9.70files/s]\n",
      "Generating train split: 100%|█████████████████████████████████████████████████████████████████████████████████████████████████████████████████████████████| 348718/348718 [00:03<00:00, 90336.31 examples/s]\n",
      "Generating validation split: 100%|██████████████████████████████████████████████████████████████████████████████████████████████████████████████████████████| 18436/18436 [00:00<00:00, 88486.96 examples/s]\n",
      "Generating test split: 100%|████████████████████████████████████████████████████████████████████████████████████████████████████████████████████████████████| 18409/18409 [00:00<00:00, 81311.10 examples/s]\n"
     ]
    }
   ],
   "source": [
    "dataset = load_dataset(\"stanfordnlp/SHP\")"
   ]
  },
  {
   "cell_type": "code",
   "execution_count": 31,
   "id": "e141b6c1-f2fc-4df2-9d42-06b5c2f31400",
   "metadata": {},
   "outputs": [],
   "source": [
    "topics_test = ['explainlikeimfive_test', 'askscience_test', 'askphysics_test', 'askengineers_test', 'askacademia_test']\n",
    "topics_train = ['explainlikeimfive_train', 'askscience_train', 'askphysics_train', 'askengineers_train', 'askacademia_train']"
   ]
  },
  {
   "cell_type": "code",
   "execution_count": 32,
   "id": "f9498e99-9254-4f82-9197-3ef33fe8edd5",
   "metadata": {},
   "outputs": [],
   "source": [
    "# Create a list to store individual preferences\n",
    "preferences_test = []\n",
    "\n",
    "# Extract preference items from the data\n",
    "for question in dataset['test']:\n",
    "    if question['domain'] in topics_test:\n",
    "        if question['score_B'] > question['score_A']:\n",
    "            preferences_test.append({\n",
    "                'prompt': question['history'],\n",
    "                'chosen': question['human_ref_B'],\n",
    "                'rejected': question['human_ref_A'],\n",
    "            })\n",
    "        elif question['score_B'] < question['score_A']:\n",
    "            preferences_test.append({\n",
    "                'prompt': question['history'],\n",
    "                'chosen': question['human_ref_A'],\n",
    "                'rejected': question['human_ref_B'],\n",
    "            })"
   ]
  },
  {
   "cell_type": "code",
   "execution_count": 33,
   "id": "e629b6a4-eacd-4ae1-bb16-db0e01babf73",
   "metadata": {},
   "outputs": [
    {
     "data": {
      "text/plain": [
       "6980"
      ]
     },
     "execution_count": 33,
     "metadata": {},
     "output_type": "execute_result"
    }
   ],
   "source": [
    "len(preferences_test)"
   ]
  },
  {
   "cell_type": "code",
   "execution_count": 37,
   "id": "ace3fd35-c194-45f1-a9ec-75ec60323cd8",
   "metadata": {},
   "outputs": [],
   "source": [
    "# Write the preferences to a jsonl file\n",
    "with open('stanford_test.jsonl', 'w') as file:\n",
    "    for preference in preferences_test:\n",
    "        file.write(json.dumps(preference) + '\\n')"
   ]
  },
  {
   "cell_type": "code",
   "execution_count": 43,
   "id": "e77f0460-faf4-4cc0-aa3e-7437a215049a",
   "metadata": {},
   "outputs": [],
   "source": [
    "# Create a list to store individual preferences\n",
    "preferences_train = []\n",
    "\n",
    "# Extract preference items from the data\n",
    "for question in dataset['train']:\n",
    "    if question['domain'] in topics_train:\n",
    "        if question['score_B'] > question['score_A']:\n",
    "            preferences_train.append({\n",
    "                'prompt': question['history'],\n",
    "                'chosen': question['human_ref_B'],\n",
    "                'rejected': question['human_ref_A'],\n",
    "            })\n",
    "        elif question['score_B'] < question['score_A']:\n",
    "            preferences_train.append({\n",
    "                'prompt': question['history'],\n",
    "                'chosen': question['human_ref_A'],\n",
    "                'rejected': question['human_ref_B'],\n",
    "            })"
   ]
  },
  {
   "cell_type": "code",
   "execution_count": 44,
   "id": "a850822f-29a0-4bcb-b39e-04ea2d18088c",
   "metadata": {},
   "outputs": [
    {
     "data": {
      "text/plain": [
       "128818"
      ]
     },
     "execution_count": 44,
     "metadata": {},
     "output_type": "execute_result"
    }
   ],
   "source": [
    "len(preferences_train)"
   ]
  },
  {
   "cell_type": "code",
   "execution_count": 45,
   "id": "4f1e4d2c-b109-4724-bb04-3cffa47d461d",
   "metadata": {},
   "outputs": [],
   "source": [
    "# Write the preferences to a jsonl file\n",
    "with open('stanford_train.jsonl', 'w') as file:\n",
    "    for preference in preferences_train:\n",
    "        file.write(json.dumps(preference) + '\\n')"
   ]
  }
 ],
 "metadata": {
  "kernelspec": {
   "display_name": "Python (final)",
   "language": "python",
   "name": "final"
  },
  "language_info": {
   "codemirror_mode": {
    "name": "ipython",
    "version": 3
   },
   "file_extension": ".py",
   "mimetype": "text/x-python",
   "name": "python",
   "nbconvert_exporter": "python",
   "pygments_lexer": "ipython3",
   "version": "3.10.11"
  }
 },
 "nbformat": 4,
 "nbformat_minor": 5
}
